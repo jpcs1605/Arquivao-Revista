{
  "nbformat": 4,
  "nbformat_minor": 0,
  "metadata": {
    "colab": {
      "provenance": [],
      "toc_visible": true,
      "authorship_tag": "ABX9TyMdFyEz8kFvtlbroY0zASIM",
      "include_colab_link": true
    },
    "kernelspec": {
      "name": "python3",
      "display_name": "Python 3"
    },
    "language_info": {
      "name": "python"
    }
  },
  "cells": [
    {
      "cell_type": "markdown",
      "metadata": {
        "id": "view-in-github",
        "colab_type": "text"
      },
      "source": [
        "<a href=\"https://colab.research.google.com/github/jpcs1605/Arquivao-Revista/blob/main/Teste_Arquiv%C3%A1o.ipynb\" target=\"_parent\"><img src=\"https://colab.research.google.com/assets/colab-badge.svg\" alt=\"Open In Colab\"/></a>"
      ]
    },
    {
      "cell_type": "markdown",
      "source": [
        "# Comparador de códigos de venda:"
      ],
      "metadata": {
        "id": "4nZRRLg2wE27"
      }
    },
    {
      "cell_type": "code",
      "source": [
        "!pip install pyxlsb"
      ],
      "metadata": {
        "colab": {
          "base_uri": "https://localhost:8080/"
        },
        "id": "muzuSYzsWuMW",
        "outputId": "3450d1a3-4bff-4ba3-cc15-439fa74f486a"
      },
      "execution_count": 2,
      "outputs": [
        {
          "output_type": "stream",
          "name": "stdout",
          "text": [
            "Requirement already satisfied: pyxlsb in /usr/local/lib/python3.10/dist-packages (1.0.10)\n"
          ]
        }
      ]
    },
    {
      "cell_type": "code",
      "source": [
        "!pip install --upgrade openpyxl"
      ],
      "metadata": {
        "colab": {
          "base_uri": "https://localhost:8080/"
        },
        "id": "v0k5U8O8ZkjL",
        "outputId": "a1b76df9-e45b-4595-bab0-1406dc9a922a"
      },
      "execution_count": 3,
      "outputs": [
        {
          "output_type": "stream",
          "name": "stdout",
          "text": [
            "Requirement already satisfied: openpyxl in /usr/local/lib/python3.10/dist-packages (3.1.2)\n",
            "Requirement already satisfied: et-xmlfile in /usr/local/lib/python3.10/dist-packages (from openpyxl) (1.1.0)\n"
          ]
        }
      ]
    },
    {
      "cell_type": "code",
      "execution_count": null,
      "metadata": {
        "id": "Q8oRauq8jrWi"
      },
      "outputs": [],
      "source": [
        "import openpyxl\n",
        "import random\n",
        "import re\n",
        "import pandas as pd"
      ]
    },
    {
      "cell_type": "code",
      "source": [
        "def busca_coluna_cv(aba_TabelaDePor,celula_linha1, cv_aplicados):\n",
        "    sku_antes=[]\n",
        "\n",
        "    for celula_cv in aba_TabelaDePor[celula_linha1.column_letter]:\n",
        "        sku_antes.append(celula_cv.value)\n",
        "\n",
        "    for produto in sku_antes:\n",
        "        if produto != None and produto !=\"CV\":\n",
        "            cv_aplicados.append(produto)\n",
        "    #print(cv_aplicados)"
      ],
      "metadata": {
        "id": "RxuZ9YfeKWKd"
      },
      "execution_count": null,
      "outputs": []
    },
    {
      "cell_type": "code",
      "source": [
        "def busca_coluna_codVenda(aba_TabelaBasePreco,celula_linha2, cv_base):\n",
        "    sku2_antes=[]\n",
        "    #print(celula_linha2.column_letter)\n",
        "    for celula_cv in aba_TabelaBasePreco[celula_linha2.column_letter]:\n",
        "        sku2_antes.append(celula_cv.value)\n",
        "\n",
        "    for produto_base in sku2_antes:\n",
        "        if produto_base != None and produto_base !=\"Código de Venda\":\n",
        "            cv_base.append(produto_base)\n",
        "\n",
        "    #print(\"Base\")\n",
        "    #print(cv_base)\n",
        "    #print(cv_aplicados)"
      ],
      "metadata": {
        "id": "N6-8BBSfjpwj"
      },
      "execution_count": null,
      "outputs": []
    },
    {
      "cell_type": "code",
      "source": [
        "def busca_coluna_TabelaBasePreco(aba_TabelaBasePreco, cv_base):\n",
        "    colunas_TabelaBasePreco=[]\n",
        "    for celula_linha2 in aba_TabelaBasePreco['2']:\n",
        "        celula_linha2_value=celula_linha2.value\n",
        "        celula_linha2_coluna=celula_linha2.column_letter\n",
        "        colunas_TabelaBasePreco.append(celula_linha2_value)\n",
        "\n",
        "        if celula_linha2_value ==\"Código de Venda\":\n",
        "            #print(colunas_TabelaBasePreco)\n",
        "            #print(celula_linha2_coluna)\n",
        "            busca_coluna_codVenda(aba_TabelaBasePreco,celula_linha2, cv_base)"
      ],
      "metadata": {
        "id": "IIaC74erdDGZ"
      },
      "execution_count": null,
      "outputs": []
    },
    {
      "cell_type": "code",
      "source": [
        "def infos_planilha2(cv_base):\n",
        "    TabelaBasePreco=input(\"Digite o nome do arquivo .xlsx, de TabelaBasePreco:\")\n",
        "    TabelaBasePreco=TabelaBasePreco+\".xlsx\"\n",
        "    planilha_TabelaBasePreco=openpyxl.load_workbook(TabelaBasePreco)\n",
        "    aba_TabelaBasePreco=planilha_TabelaBasePreco['Base de Preços BR VF']\n",
        "    busca_coluna_TabelaBasePreco(aba_TabelaBasePreco, cv_base)\n",
        "\n"
      ],
      "metadata": {
        "id": "0vEyP2F2gCdP"
      },
      "execution_count": null,
      "outputs": []
    },
    {
      "cell_type": "code",
      "source": [
        "def comparador_cvs(cv_aplicados, cv_base):\n",
        "\n",
        "    difference = [elem for elem in cv_aplicados if elem not in cv_base]\n",
        "    print(\"Segue lista de CV's que não localizamos na base de Preços: \")\n",
        "    print(difference)\n"
      ],
      "metadata": {
        "id": "XsbEN5CHtKLZ"
      },
      "execution_count": null,
      "outputs": []
    },
    {
      "cell_type": "code",
      "source": [
        "def busca_coluna_TabelaDePor(aba_TabelaDePor):\n",
        "\n",
        "    colunas_TabelaDePor=[]\n",
        "    cv_aplicados=[]\n",
        "    cv_base=[]\n",
        "    infos_planilha2(cv_base)\n",
        "    for celula_linha1 in aba_TabelaDePor['4']:\n",
        "        celula_linha1_value=celula_linha1.value\n",
        "        celula_linha1_coluna=celula_linha1.column_letter\n",
        "        colunas_TabelaDePor.append(celula_linha1_value)\n",
        "        if celula_linha1_value ==\"CV\":\n",
        "            busca_coluna_cv(aba_TabelaDePor,celula_linha1, cv_aplicados)\n",
        "            #print(cv_aplicados) CVs de DePor\n",
        "            #print(cv_base) CVs de base de preço\n",
        "    comparador_cvs(cv_aplicados, cv_base)\n"
      ],
      "metadata": {
        "id": "nz6xV48LKXHs"
      },
      "execution_count": null,
      "outputs": []
    },
    {
      "cell_type": "code",
      "source": [
        "TabelaDePor=input(\"Digite o nome do arquivo .xlsx, de TabelaDePor:\")\n",
        "TabelaDePor=TabelaDePor+\".xlsx\"\n",
        "planilha_TabelaDePor=openpyxl.load_workbook(TabelaDePor)\n",
        "aba_TabelaDePor=planilha_TabelaDePor['Tabela DePor']\n",
        "busca_coluna_TabelaDePor(aba_TabelaDePor)\n",
        "\n"
      ],
      "metadata": {
        "id": "4twwX_5xN-mf",
        "colab": {
          "base_uri": "https://localhost:8080/"
        },
        "outputId": "ffbebba4-93af-4e7c-a6d3-bef61e8a37a8"
      },
      "execution_count": null,
      "outputs": [
        {
          "output_type": "stream",
          "name": "stdout",
          "text": [
            "Digite o nome do arquivo .xlsx, de TabelaDePor:Tabela DePor_Teste\n",
            "Digite o nome do arquivo .xlsx, de TabelaBasePreco:202318_Base de Preços\n",
            "Segue lista de CV's que não localizamos na base de Preços: \n",
            "[75234, 146273, 19128, 125710, 125712, 128570, 129963, 134757, 134758, 134759, 134760, 134761, 134762, 134764, 134768, 134770, 134773, 134843, 134844, 134848, 134850, 134856, 134858, 134860, 134862, 134863, 134870, 134872, 134876, 134881, 134882, 134883, 134894, 134895, 134985, 134995, 134996, 137806, 137807, 137808, 137810, 137813, 137814, 139603, 139812, 145675, 146900, 147391, 99023, 99025]\n"
          ]
        }
      ]
    },
    {
      "cell_type": "markdown",
      "source": [
        "Tabela DePor_Teste\n",
        "\n",
        "202318_Base de Preços"
      ],
      "metadata": {
        "id": "Yr1Lesaxqah1"
      }
    },
    {
      "cell_type": "markdown",
      "source": [
        "# teste front"
      ],
      "metadata": {
        "id": "xZh3JTAKwQYo"
      }
    },
    {
      "cell_type": "code",
      "source": [
        "def"
      ],
      "metadata": {
        "id": "QtGS5K_yyRxJ"
      },
      "execution_count": null,
      "outputs": []
    },
    {
      "cell_type": "code",
      "source": [
        "import openpyxl\n",
        "import random\n",
        "import re\n",
        "import pandas as pd\n",
        "from ipywidgets import interact_manual, widgets\n",
        "\n",
        "\n",
        "def busca_coluna_cv(aba_TabelaDePor,celula_linha1, cv_aplicados):\n",
        "    sku_antes=[]\n",
        "\n",
        "    for celula_cv in aba_TabelaDePor[celula_linha1.column_letter]:\n",
        "        sku_antes.append(celula_cv.value)\n",
        "\n",
        "    for produto in sku_antes:\n",
        "        if produto != None and produto !=\"CV\":\n",
        "            cv_aplicados.append(produto)\n",
        "    #print(cv_aplicados)\n",
        "\n",
        "def busca_coluna_codVenda(aba_TabelaBasePreco,celula_linha2, cv_base):\n",
        "    sku2_antes=[]\n",
        "    #print(celula_linha2.column_letter)\n",
        "    for celula_cv in aba_TabelaBasePreco[celula_linha2.column_letter]:\n",
        "        sku2_antes.append(celula_cv.value)\n",
        "\n",
        "    for produto_base in sku2_antes:\n",
        "        if produto_base != None and produto_base !=\"Código de Venda\":\n",
        "            cv_base.append(produto_base)\n",
        "\n",
        "    #print(\"Base\")\n",
        "    #print(cv_base)\n",
        "    #print(cv_aplicados)\n",
        "\n",
        "def busca_coluna_TabelaBasePreco(aba_TabelaBasePreco, cv_base):\n",
        "    colunas_TabelaBasePreco=[]\n",
        "    for celula_linha2 in aba_TabelaBasePreco['2']:\n",
        "        celula_linha2_value=celula_linha2.value\n",
        "        celula_linha2_coluna=celula_linha2.column_letter\n",
        "        colunas_TabelaBasePreco.append(celula_linha2_value)\n",
        "\n",
        "        if celula_linha2_value ==\"Código de Venda\":\n",
        "            #print(colunas_TabelaBasePreco)\n",
        "            #print(celula_linha2_coluna)\n",
        "            busca_coluna_codVenda(aba_TabelaBasePreco,celula_linha2, cv_base)\n",
        "\n",
        "\n",
        "def infos_planilha2(cv_base):\n",
        "    TabelaBasePreco=input(\"Digite o nome do arquivo .xlsx, de TabelaBasePreco:\")\n",
        "    TabelaBasePreco=TabelaBasePreco+\".xlsx\"\n",
        "    planilha_TabelaBasePreco=openpyxl.load_workbook(TabelaBasePreco)\n",
        "    aba_TabelaBasePreco=planilha_TabelaBasePreco['Base de Preços BR VF']\n",
        "    busca_coluna_TabelaBasePreco(aba_TabelaBasePreco, cv_base)\n",
        "\n",
        "def comparador_cvs(cv_aplicados, cv_base):\n",
        "\n",
        "    difference = [elem for elem in cv_aplicados if elem not in cv_base]\n",
        "    print(\"Segue lista de CV's que não localizamos na base de Preços: \")\n",
        "    print(difference)\n",
        "\n",
        "def busca_coluna_TabelaDePor(aba_TabelaDePor):\n",
        "\n",
        "    colunas_TabelaDePor=[]\n",
        "    cv_aplicados=[]\n",
        "    cv_base=[]\n",
        "    infos_planilha2(cv_base)\n",
        "    for celula_linha1 in aba_TabelaDePor['4']:\n",
        "        celula_linha1_value=celula_linha1.value\n",
        "        celula_linha1_coluna=celula_linha1.column_letter\n",
        "        colunas_TabelaDePor.append(celula_linha1_value)\n",
        "        if celula_linha1_value ==\"CV\":\n",
        "            busca_coluna_cv(aba_TabelaDePor,celula_linha1, cv_aplicados)\n",
        "            #print(cv_aplicados) CVs de DePor\n",
        "            #print(cv_base) CVs de base de preço\n",
        "    comparador_cvs(cv_aplicados, cv_base)\n",
        "\n",
        "\n",
        "TabelaDePor=input(\"Digite o nome do arquivo .xlsx, de TabelaDePor:\")\n",
        "TabelaDePor=TabelaDePor+\".xlsx\"\n",
        "planilha_TabelaDePor=openpyxl.load_workbook(TabelaDePor)\n",
        "aba_TabelaDePor=planilha_TabelaDePor['Tabela DePor']\n",
        "busca_coluna_TabelaDePor(aba_TabelaDePor)\n",
        "\n",
        "\n",
        "\n",
        "\n",
        "def main(TabelaDePor, TabelaBasePreco):\n",
        "    TabelaDePor = TabelaDePor + \".xlsx\"\n",
        "    planilha_TabelaDePor = openpyxl.load_workbook(TabelaDePor)\n",
        "    aba_TabelaDePor = planilha_TabelaDePor['Tabela DePor']\n",
        "    busca_coluna_TabelaDePor(aba_TabelaDePor, TabelaBasePreco)\n",
        "\n",
        "# Criar widgets para entrada de nome de arquivo\n",
        "input_TabelaDePor = widgets.Text(value='', description='TabelaDePor:', placeholder='Digite o nome do arquivo .xlsx')\n",
        "input_TabelaBasePreco = widgets.Text(value='', description='TabelaBasePreco:', placeholder='Digite o nome do arquivo .xlsx')\n",
        "\n",
        "# Criar botão e interação\n",
        "interact_manual(main, TabelaDePor=input_TabelaDePor, TabelaBasePreco=input_TabelaBasePreco)\n"
      ],
      "metadata": {
        "colab": {
          "base_uri": "https://localhost:8080/",
          "height": 391
        },
        "id": "rVku5A6mwoW7",
        "outputId": "fa7747ca-da28-43d0-a8ec-7f4061670c92"
      },
      "execution_count": 4,
      "outputs": [
        {
          "output_type": "error",
          "ename": "KeyboardInterrupt",
          "evalue": "ignored",
          "traceback": [
            "\u001b[0;31m---------------------------------------------------------------------------\u001b[0m",
            "\u001b[0;31mKeyboardInterrupt\u001b[0m                         Traceback (most recent call last)",
            "\u001b[0;32m<ipython-input-4-5c891c17f440>\u001b[0m in \u001b[0;36m<cell line: 76>\u001b[0;34m()\u001b[0m\n\u001b[1;32m     74\u001b[0m \u001b[0;34m\u001b[0m\u001b[0m\n\u001b[1;32m     75\u001b[0m \u001b[0;34m\u001b[0m\u001b[0m\n\u001b[0;32m---> 76\u001b[0;31m \u001b[0mTabelaDePor\u001b[0m\u001b[0;34m=\u001b[0m\u001b[0minput\u001b[0m\u001b[0;34m(\u001b[0m\u001b[0;34m\"Digite o nome do arquivo .xlsx, de TabelaDePor:\"\u001b[0m\u001b[0;34m)\u001b[0m\u001b[0;34m\u001b[0m\u001b[0;34m\u001b[0m\u001b[0m\n\u001b[0m\u001b[1;32m     77\u001b[0m \u001b[0mTabelaDePor\u001b[0m\u001b[0;34m=\u001b[0m\u001b[0mTabelaDePor\u001b[0m\u001b[0;34m+\u001b[0m\u001b[0;34m\".xlsx\"\u001b[0m\u001b[0;34m\u001b[0m\u001b[0;34m\u001b[0m\u001b[0m\n\u001b[1;32m     78\u001b[0m \u001b[0mplanilha_TabelaDePor\u001b[0m\u001b[0;34m=\u001b[0m\u001b[0mopenpyxl\u001b[0m\u001b[0;34m.\u001b[0m\u001b[0mload_workbook\u001b[0m\u001b[0;34m(\u001b[0m\u001b[0mTabelaDePor\u001b[0m\u001b[0;34m)\u001b[0m\u001b[0;34m\u001b[0m\u001b[0;34m\u001b[0m\u001b[0m\n",
            "\u001b[0;32m/usr/local/lib/python3.10/dist-packages/ipykernel/kernelbase.py\u001b[0m in \u001b[0;36mraw_input\u001b[0;34m(self, prompt)\u001b[0m\n\u001b[1;32m    849\u001b[0m                 \u001b[0;34m\"raw_input was called, but this frontend does not support input requests.\"\u001b[0m\u001b[0;34m\u001b[0m\u001b[0;34m\u001b[0m\u001b[0m\n\u001b[1;32m    850\u001b[0m             )\n\u001b[0;32m--> 851\u001b[0;31m         return self._input_request(str(prompt),\n\u001b[0m\u001b[1;32m    852\u001b[0m             \u001b[0mself\u001b[0m\u001b[0;34m.\u001b[0m\u001b[0m_parent_ident\u001b[0m\u001b[0;34m,\u001b[0m\u001b[0;34m\u001b[0m\u001b[0;34m\u001b[0m\u001b[0m\n\u001b[1;32m    853\u001b[0m             \u001b[0mself\u001b[0m\u001b[0;34m.\u001b[0m\u001b[0m_parent_header\u001b[0m\u001b[0;34m,\u001b[0m\u001b[0;34m\u001b[0m\u001b[0;34m\u001b[0m\u001b[0m\n",
            "\u001b[0;32m/usr/local/lib/python3.10/dist-packages/ipykernel/kernelbase.py\u001b[0m in \u001b[0;36m_input_request\u001b[0;34m(self, prompt, ident, parent, password)\u001b[0m\n\u001b[1;32m    893\u001b[0m             \u001b[0;32mexcept\u001b[0m \u001b[0mKeyboardInterrupt\u001b[0m\u001b[0;34m:\u001b[0m\u001b[0;34m\u001b[0m\u001b[0;34m\u001b[0m\u001b[0m\n\u001b[1;32m    894\u001b[0m                 \u001b[0;31m# re-raise KeyboardInterrupt, to truncate traceback\u001b[0m\u001b[0;34m\u001b[0m\u001b[0;34m\u001b[0m\u001b[0m\n\u001b[0;32m--> 895\u001b[0;31m                 \u001b[0;32mraise\u001b[0m \u001b[0mKeyboardInterrupt\u001b[0m\u001b[0;34m(\u001b[0m\u001b[0;34m\"Interrupted by user\"\u001b[0m\u001b[0;34m)\u001b[0m \u001b[0;32mfrom\u001b[0m \u001b[0;32mNone\u001b[0m\u001b[0;34m\u001b[0m\u001b[0;34m\u001b[0m\u001b[0m\n\u001b[0m\u001b[1;32m    896\u001b[0m             \u001b[0;32mexcept\u001b[0m \u001b[0mException\u001b[0m \u001b[0;32mas\u001b[0m \u001b[0me\u001b[0m\u001b[0;34m:\u001b[0m\u001b[0;34m\u001b[0m\u001b[0;34m\u001b[0m\u001b[0m\n\u001b[1;32m    897\u001b[0m                 \u001b[0mself\u001b[0m\u001b[0;34m.\u001b[0m\u001b[0mlog\u001b[0m\u001b[0;34m.\u001b[0m\u001b[0mwarning\u001b[0m\u001b[0;34m(\u001b[0m\u001b[0;34m\"Invalid Message:\"\u001b[0m\u001b[0;34m,\u001b[0m \u001b[0mexc_info\u001b[0m\u001b[0;34m=\u001b[0m\u001b[0;32mTrue\u001b[0m\u001b[0;34m)\u001b[0m\u001b[0;34m\u001b[0m\u001b[0;34m\u001b[0m\u001b[0m\n",
            "\u001b[0;31mKeyboardInterrupt\u001b[0m: Interrupted by user"
          ]
        }
      ]
    },
    {
      "cell_type": "code",
      "source": [
        "!pip install streamlit\n"
      ],
      "metadata": {
        "colab": {
          "base_uri": "https://localhost:8080/"
        },
        "id": "rrRKSEPBwrNy",
        "outputId": "ddc6d92f-b2d0-4af2-b5be-64f575529089"
      },
      "execution_count": 5,
      "outputs": [
        {
          "output_type": "stream",
          "name": "stdout",
          "text": [
            "Collecting streamlit\n",
            "  Downloading streamlit-1.26.0-py2.py3-none-any.whl (8.1 MB)\n",
            "\u001b[?25l     \u001b[90m━━━━━━━━━━━━━━━━━━━━━━━━━━━━━━━━━━━━━━━━\u001b[0m \u001b[32m0.0/8.1 MB\u001b[0m \u001b[31m?\u001b[0m eta \u001b[36m-:--:--\u001b[0m\r\u001b[2K     \u001b[91m━━━\u001b[0m\u001b[90m╺\u001b[0m\u001b[90m━━━━━━━━━━━━━━━━━━━━━━━━━━━━━━━━━━━━\u001b[0m \u001b[32m0.7/8.1 MB\u001b[0m \u001b[31m20.4 MB/s\u001b[0m eta \u001b[36m0:00:01\u001b[0m\r\u001b[2K     \u001b[91m━━━━━━━━━━━━━━━━━━━━━━━━━━━━━\u001b[0m\u001b[91m╸\u001b[0m\u001b[90m━━━━━━━━━━\u001b[0m \u001b[32m6.1/8.1 MB\u001b[0m \u001b[31m89.0 MB/s\u001b[0m eta \u001b[36m0:00:01\u001b[0m\r\u001b[2K     \u001b[91m━━━━━━━━━━━━━━━━━━━━━━━━━━━━━━━━━━━━━━━\u001b[0m\u001b[91m╸\u001b[0m \u001b[32m8.1/8.1 MB\u001b[0m \u001b[31m94.4 MB/s\u001b[0m eta \u001b[36m0:00:01\u001b[0m\r\u001b[2K     \u001b[90m━━━━━━━━━━━━━━━━━━━━━━━━━━━━━━━━━━━━━━━━\u001b[0m \u001b[32m8.1/8.1 MB\u001b[0m \u001b[31m67.0 MB/s\u001b[0m eta \u001b[36m0:00:00\u001b[0m\n",
            "\u001b[?25hRequirement already satisfied: altair<6,>=4.0 in /usr/local/lib/python3.10/dist-packages (from streamlit) (4.2.2)\n",
            "Requirement already satisfied: blinker<2,>=1.0.0 in /usr/lib/python3/dist-packages (from streamlit) (1.4)\n",
            "Requirement already satisfied: cachetools<6,>=4.0 in /usr/local/lib/python3.10/dist-packages (from streamlit) (5.3.1)\n",
            "Requirement already satisfied: click<9,>=7.0 in /usr/local/lib/python3.10/dist-packages (from streamlit) (8.1.7)\n",
            "Requirement already satisfied: importlib-metadata<7,>=1.4 in /usr/local/lib/python3.10/dist-packages (from streamlit) (6.8.0)\n",
            "Requirement already satisfied: numpy<2,>=1.19.3 in /usr/local/lib/python3.10/dist-packages (from streamlit) (1.23.5)\n",
            "Requirement already satisfied: packaging<24,>=16.8 in /usr/local/lib/python3.10/dist-packages (from streamlit) (23.1)\n",
            "Requirement already satisfied: pandas<3,>=1.3.0 in /usr/local/lib/python3.10/dist-packages (from streamlit) (1.5.3)\n",
            "Requirement already satisfied: pillow<10,>=7.1.0 in /usr/local/lib/python3.10/dist-packages (from streamlit) (9.4.0)\n",
            "Requirement already satisfied: protobuf<5,>=3.20 in /usr/local/lib/python3.10/dist-packages (from streamlit) (3.20.3)\n",
            "Requirement already satisfied: pyarrow>=6.0 in /usr/local/lib/python3.10/dist-packages (from streamlit) (9.0.0)\n",
            "Collecting pympler<2,>=0.9 (from streamlit)\n",
            "  Downloading Pympler-1.0.1-py3-none-any.whl (164 kB)\n",
            "\u001b[?25l     \u001b[90m━━━━━━━━━━━━━━━━━━━━━━━━━━━━━━━━━━━━━━━━\u001b[0m \u001b[32m0.0/164.8 kB\u001b[0m \u001b[31m?\u001b[0m eta \u001b[36m-:--:--\u001b[0m\r\u001b[2K     \u001b[90m━━━━━━━━━━━━━━━━━━━━━━━━━━━━━━━━━━━━━━\u001b[0m \u001b[32m164.8/164.8 kB\u001b[0m \u001b[31m16.0 MB/s\u001b[0m eta \u001b[36m0:00:00\u001b[0m\n",
            "\u001b[?25hRequirement already satisfied: python-dateutil<3,>=2.7.3 in /usr/local/lib/python3.10/dist-packages (from streamlit) (2.8.2)\n",
            "Requirement already satisfied: requests<3,>=2.18 in /usr/local/lib/python3.10/dist-packages (from streamlit) (2.31.0)\n",
            "Requirement already satisfied: rich<14,>=10.14.0 in /usr/local/lib/python3.10/dist-packages (from streamlit) (13.5.2)\n",
            "Requirement already satisfied: tenacity<9,>=8.1.0 in /usr/local/lib/python3.10/dist-packages (from streamlit) (8.2.3)\n",
            "Requirement already satisfied: toml<2,>=0.10.1 in /usr/local/lib/python3.10/dist-packages (from streamlit) (0.10.2)\n",
            "Requirement already satisfied: typing-extensions<5,>=4.1.0 in /usr/local/lib/python3.10/dist-packages (from streamlit) (4.5.0)\n",
            "Collecting tzlocal<5,>=1.1 (from streamlit)\n",
            "  Downloading tzlocal-4.3.1-py3-none-any.whl (20 kB)\n",
            "Collecting validators<1,>=0.2 (from streamlit)\n",
            "  Downloading validators-0.22.0-py3-none-any.whl (26 kB)\n",
            "Collecting gitpython!=3.1.19,<4,>=3.0.7 (from streamlit)\n",
            "  Downloading GitPython-3.1.36-py3-none-any.whl (189 kB)\n",
            "\u001b[2K     \u001b[90m━━━━━━━━━━━━━━━━━━━━━━━━━━━━━━━━━━━━━━\u001b[0m \u001b[32m189.5/189.5 kB\u001b[0m \u001b[31m18.7 MB/s\u001b[0m eta \u001b[36m0:00:00\u001b[0m\n",
            "\u001b[?25hCollecting pydeck<1,>=0.8 (from streamlit)\n",
            "  Downloading pydeck-0.8.0-py2.py3-none-any.whl (4.7 MB)\n",
            "\u001b[2K     \u001b[90m━━━━━━━━━━━━━━━━━━━━━━━━━━━━━━━━━━━━━━━━\u001b[0m \u001b[32m4.7/4.7 MB\u001b[0m \u001b[31m76.0 MB/s\u001b[0m eta \u001b[36m0:00:00\u001b[0m\n",
            "\u001b[?25hRequirement already satisfied: tornado<7,>=6.0.3 in /usr/local/lib/python3.10/dist-packages (from streamlit) (6.3.2)\n",
            "Collecting watchdog>=2.1.5 (from streamlit)\n",
            "  Downloading watchdog-3.0.0-py3-none-manylinux2014_x86_64.whl (82 kB)\n",
            "\u001b[2K     \u001b[90m━━━━━━━━━━━━━━━━━━━━━━━━━━━━━━━━━━━━━━━━\u001b[0m \u001b[32m82.1/82.1 kB\u001b[0m \u001b[31m8.9 MB/s\u001b[0m eta \u001b[36m0:00:00\u001b[0m\n",
            "\u001b[?25hRequirement already satisfied: entrypoints in /usr/local/lib/python3.10/dist-packages (from altair<6,>=4.0->streamlit) (0.4)\n",
            "Requirement already satisfied: jinja2 in /usr/local/lib/python3.10/dist-packages (from altair<6,>=4.0->streamlit) (3.1.2)\n",
            "Requirement already satisfied: jsonschema>=3.0 in /usr/local/lib/python3.10/dist-packages (from altair<6,>=4.0->streamlit) (4.19.0)\n",
            "Requirement already satisfied: toolz in /usr/local/lib/python3.10/dist-packages (from altair<6,>=4.0->streamlit) (0.12.0)\n",
            "Collecting gitdb<5,>=4.0.1 (from gitpython!=3.1.19,<4,>=3.0.7->streamlit)\n",
            "  Downloading gitdb-4.0.10-py3-none-any.whl (62 kB)\n",
            "\u001b[2K     \u001b[90m━━━━━━━━━━━━━━━━━━━━━━━━━━━━━━━━━━━━━━━━\u001b[0m \u001b[32m62.7/62.7 kB\u001b[0m \u001b[31m7.1 MB/s\u001b[0m eta \u001b[36m0:00:00\u001b[0m\n",
            "\u001b[?25hRequirement already satisfied: zipp>=0.5 in /usr/local/lib/python3.10/dist-packages (from importlib-metadata<7,>=1.4->streamlit) (3.16.2)\n",
            "Requirement already satisfied: pytz>=2020.1 in /usr/local/lib/python3.10/dist-packages (from pandas<3,>=1.3.0->streamlit) (2023.3.post1)\n",
            "Requirement already satisfied: six>=1.5 in /usr/local/lib/python3.10/dist-packages (from python-dateutil<3,>=2.7.3->streamlit) (1.16.0)\n",
            "Requirement already satisfied: charset-normalizer<4,>=2 in /usr/local/lib/python3.10/dist-packages (from requests<3,>=2.18->streamlit) (3.2.0)\n",
            "Requirement already satisfied: idna<4,>=2.5 in /usr/local/lib/python3.10/dist-packages (from requests<3,>=2.18->streamlit) (3.4)\n",
            "Requirement already satisfied: urllib3<3,>=1.21.1 in /usr/local/lib/python3.10/dist-packages (from requests<3,>=2.18->streamlit) (2.0.4)\n",
            "Requirement already satisfied: certifi>=2017.4.17 in /usr/local/lib/python3.10/dist-packages (from requests<3,>=2.18->streamlit) (2023.7.22)\n",
            "Requirement already satisfied: markdown-it-py>=2.2.0 in /usr/local/lib/python3.10/dist-packages (from rich<14,>=10.14.0->streamlit) (3.0.0)\n",
            "Requirement already satisfied: pygments<3.0.0,>=2.13.0 in /usr/local/lib/python3.10/dist-packages (from rich<14,>=10.14.0->streamlit) (2.16.1)\n",
            "Collecting pytz-deprecation-shim (from tzlocal<5,>=1.1->streamlit)\n",
            "  Downloading pytz_deprecation_shim-0.1.0.post0-py2.py3-none-any.whl (15 kB)\n",
            "Collecting smmap<6,>=3.0.1 (from gitdb<5,>=4.0.1->gitpython!=3.1.19,<4,>=3.0.7->streamlit)\n",
            "  Downloading smmap-5.0.0-py3-none-any.whl (24 kB)\n",
            "Requirement already satisfied: MarkupSafe>=2.0 in /usr/local/lib/python3.10/dist-packages (from jinja2->altair<6,>=4.0->streamlit) (2.1.3)\n",
            "Requirement already satisfied: attrs>=22.2.0 in /usr/local/lib/python3.10/dist-packages (from jsonschema>=3.0->altair<6,>=4.0->streamlit) (23.1.0)\n",
            "Requirement already satisfied: jsonschema-specifications>=2023.03.6 in /usr/local/lib/python3.10/dist-packages (from jsonschema>=3.0->altair<6,>=4.0->streamlit) (2023.7.1)\n",
            "Requirement already satisfied: referencing>=0.28.4 in /usr/local/lib/python3.10/dist-packages (from jsonschema>=3.0->altair<6,>=4.0->streamlit) (0.30.2)\n",
            "Requirement already satisfied: rpds-py>=0.7.1 in /usr/local/lib/python3.10/dist-packages (from jsonschema>=3.0->altair<6,>=4.0->streamlit) (0.10.2)\n",
            "Requirement already satisfied: mdurl~=0.1 in /usr/local/lib/python3.10/dist-packages (from markdown-it-py>=2.2.0->rich<14,>=10.14.0->streamlit) (0.1.2)\n",
            "Collecting tzdata (from pytz-deprecation-shim->tzlocal<5,>=1.1->streamlit)\n",
            "  Downloading tzdata-2023.3-py2.py3-none-any.whl (341 kB)\n",
            "\u001b[2K     \u001b[90m━━━━━━━━━━━━━━━━━━━━━━━━━━━━━━━━━━━━━━\u001b[0m \u001b[32m341.8/341.8 kB\u001b[0m \u001b[31m27.1 MB/s\u001b[0m eta \u001b[36m0:00:00\u001b[0m\n",
            "\u001b[?25hInstalling collected packages: watchdog, validators, tzdata, smmap, pympler, pytz-deprecation-shim, pydeck, gitdb, tzlocal, gitpython, streamlit\n",
            "  Attempting uninstall: tzlocal\n",
            "    Found existing installation: tzlocal 5.0.1\n",
            "    Uninstalling tzlocal-5.0.1:\n",
            "      Successfully uninstalled tzlocal-5.0.1\n",
            "Successfully installed gitdb-4.0.10 gitpython-3.1.36 pydeck-0.8.0 pympler-1.0.1 pytz-deprecation-shim-0.1.0.post0 smmap-5.0.0 streamlit-1.26.0 tzdata-2023.3 tzlocal-4.3.1 validators-0.22.0 watchdog-3.0.0\n"
          ]
        }
      ]
    },
    {
      "cell_type": "code",
      "source": [],
      "metadata": {
        "id": "FVN1IXP3zCab"
      },
      "execution_count": null,
      "outputs": []
    }
  ]
}
