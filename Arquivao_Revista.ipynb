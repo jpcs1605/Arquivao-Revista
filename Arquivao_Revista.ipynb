{
  "nbformat": 4,
  "nbformat_minor": 0,
  "metadata": {
    "colab": {
      "provenance": [],
      "authorship_tag": "ABX9TyPZHf76s35CBX0RfYmNTE0P",
      "include_colab_link": true
    },
    "kernelspec": {
      "name": "python3",
      "display_name": "Python 3"
    },
    "language_info": {
      "name": "python"
    }
  },
  "cells": [
    {
      "cell_type": "markdown",
      "metadata": {
        "id": "view-in-github",
        "colab_type": "text"
      },
      "source": [
        "<a href=\"https://colab.research.google.com/github/jpcs1605/Arquivao-Revista/blob/main/Arquivao_Revista.ipynb\" target=\"_parent\"><img src=\"https://colab.research.google.com/assets/colab-badge.svg\" alt=\"Open In Colab\"/></a>"
      ]
    },
    {
      "cell_type": "markdown",
      "source": [
        "# Comparador de códigos de venda e valores:"
      ],
      "metadata": {
        "id": "Aw4RP0BwlFTt"
      }
    },
    {
      "cell_type": "code",
      "source": [
        "import openpyxl\n",
        "from openpyxl.styles import Border, Side"
      ],
      "metadata": {
        "id": "Ed8Gz8q-6W7q"
      },
      "execution_count": null,
      "outputs": []
    },
    {
      "cell_type": "code",
      "source": [
        "def num_p_letra(nova_coluna):\n",
        "    if 1 <= nova_coluna <= 26:\n",
        "        return chr(64 + nova_coluna)\n",
        "    else:\n",
        "        raise ValueError(\"O número deve estar entre 1 e 26.\")"
      ],
      "metadata": {
        "id": "JXdRF2HD4dBj"
      },
      "execution_count": null,
      "outputs": []
    },
    {
      "cell_type": "code",
      "source": [
        "def construcao_planilha(aba_TabelaBasePreco,nova_coluna_L,celula_colunaCodVendas,cv_aplicados, planilha_TabelaBasePreco, produtos_baseDePor):\n",
        "    ProdutosDePor=produtos_baseDePor.keys()\n",
        "    thin_border = Side(border_style=\"thin\", color=\"000000\")\n",
        "\n",
        "\n",
        "\n",
        "    for celula_CodVenda in aba_TabelaBasePreco[celula_colunaCodVendas]:\n",
        "        linha_CodVenda=celula_CodVenda.row\n",
        "        celulanova=aba_TabelaBasePreco[f'{nova_coluna_L}{linha_CodVenda}']\n",
        "        celulanova.border = Border(top=thin_border, left=thin_border, right=thin_border, bottom=thin_border)\n",
        "        if celula_CodVenda.value in cv_aplicados:\n",
        "            chave_prodDePor=(produtos_baseDePor[celula_CodVenda.value])\n",
        "            valor_De_DePor=(chave_prodDePor[\"Valor De\"])\n",
        "\n",
        "\n",
        "            aba_TabelaBasePreco[f'{nova_coluna_L}{linha_CodVenda}']=valor_De_DePor\n",
        "\n",
        "            celulanova.border = Border(top=thin_border, left=thin_border, right=thin_border, bottom=thin_border)\n",
        "            #print(aba_TabelaBasePreco[f'{nova_coluna_L}{linha_CodVenda}'].value)\n",
        "    planilha_TabelaBasePreco.save(\"Arquivão_final.xlsx\")\n"
      ],
      "metadata": {
        "id": "OhbbgARGmWdx"
      },
      "execution_count": null,
      "outputs": []
    },
    {
      "cell_type": "code",
      "source": [
        "def busca_coluna_cv(aba_TabelaDePor,celula_colunaCV, cv_aplicados, celula_colunaValorPor, celula_colunaValorDe,produtos_baseDePor):\n",
        "    sku_antes=[]\n",
        "\n",
        "\n",
        "    #print(celula_colunaCV)\n",
        "    for celula_cv in aba_TabelaDePor[celula_colunaCV]:\n",
        "        linha_cv=celula_cv.row\n",
        "        #print (celula_colunaValorPor)\n",
        "        #print (celula_colunaValorDe)\n",
        "        sku_antes.append(celula_cv.value)\n",
        "        if celula_cv.value != None and celula_cv.value !=\"CV\":\n",
        "            #print(celula_cv.value)\n",
        "            valorDe=(aba_TabelaDePor[f'{celula_colunaValorDe}{linha_cv}'])\n",
        "            #print(valorDe)\n",
        "            valorPor=(aba_TabelaDePor[f'{celula_colunaValorPor}{linha_cv}'])\n",
        "            ''' produtos_baseDePor={\n",
        "                    celula_cv.value:{\n",
        "                        \"cv\":celula_cv.value,\n",
        "                        \"Valor De\": valorDe.value,\n",
        "                        \"Valor Por\": valorPor.value\n",
        "                    }\n",
        "            }'''\n",
        "            produtos_baseDePor.update({celula_cv.value:{\"cv\":celula_cv.value, \"Valor De\": valorDe.value, \"Valor Por\": valorPor.value}})\n",
        "            #print(produtos_baseDePor[celula_cv.value][\"cv\"])\n",
        "            #print(produtos_baseDePor[celula_cv.value][\"Valor De\"])\n",
        "            #print(produtos_baseDePor[celula_cv.value][\"Valor De\"])\n",
        "\n",
        "    #print(produtos_baseDePor.keys())\n",
        "\n",
        "    #print(sku_antes)\n",
        "    #print(produtos_baseDePor)\n",
        "\n",
        "\n",
        "\n",
        "    for produto in sku_antes:\n",
        "        if produto != None and produto !=\"CV\":\n",
        "\n",
        "            cv_aplicados.append(produto)\n",
        "\n",
        "\n",
        "    #if \"De\" in colunas_planilhaDePor:\n",
        "    #    aba_TabelaDePor[f'A{linha1}']\n",
        "    #print(cv_aplicados)"
      ],
      "metadata": {
        "id": "4m21pWUAlFTu"
      },
      "execution_count": null,
      "outputs": []
    },
    {
      "cell_type": "code",
      "source": [
        "def busca_coluna_codVenda(aba_TabelaBasePreco,celula_colunaCodVendas, cv_base,produtos_basePreco,celula_colunaValorSV,celula_colunaValorSV2,nova_coluna, cv_aplicados, planilha_TabelaBasePreco,produtos_baseDePor):\n",
        "    sku2_antes=[]\n",
        "    nova_coluna=celula_colunaValorSV2+1\n",
        "    nova_coluna_L= num_p_letra(nova_coluna)\n",
        "    aba_TabelaBasePreco.insert_cols(nova_coluna)\n",
        "    aba_TabelaBasePreco[f'{nova_coluna_L}{2}']=\"Valor De da Base DE/POR\"\n",
        "    for celula_CodVenda in aba_TabelaBasePreco[celula_colunaCodVendas]:\n",
        "        linha_CodVenda=celula_CodVenda.row\n",
        "        sku2_antes.append(celula_CodVenda.value)\n",
        "        if celula_CodVenda.value != None and celula_CodVenda.value !=\"Código de Venda\":\n",
        "            valorSV=(aba_TabelaBasePreco[f'{celula_colunaValorSV}{linha_CodVenda}'])\n",
        "            produtos_basePreco.update({celula_CodVenda.value:{\"cv\":celula_CodVenda.value, \"Valor SV\": valorSV.value}})\n",
        "\n",
        "    for produto_base in sku2_antes:\n",
        "        if produto_base != None and produto_base !=\"Código de Venda\":\n",
        "            cv_base.append(produto_base)\n",
        "\n",
        "    construcao_planilha(aba_TabelaBasePreco,nova_coluna_L,celula_colunaCodVendas,cv_aplicados, planilha_TabelaBasePreco, produtos_baseDePor)"
      ],
      "metadata": {
        "id": "v2mW7piSlFTu"
      },
      "execution_count": null,
      "outputs": []
    },
    {
      "cell_type": "code",
      "source": [
        "def busca_coluna_TabelaBasePreco(aba_TabelaBasePreco, cv_base, colunas_planilhaBasePreco,produtos_basePreco,nova_coluna, cv_aplicados, planilha_TabelaBasePreco,produtos_baseDePor):\n",
        "    colunas_TabelaBasePreco=[]\n",
        "    for colunas_BasePreco in aba_TabelaBasePreco['2']:\n",
        "        colunas_BasePreco_Nome=colunas_BasePreco.value\n",
        "        colunas_BasePreco_Letra=colunas_BasePreco.column_letter\n",
        "        colunas_planilhaBasePreco[colunas_BasePreco_Nome] = colunas_BasePreco_Letra\n",
        "        if colunas_BasePreco_Nome==\"SV\":\n",
        "            celula_colunaValorSV2=colunas_BasePreco.column\n",
        "    if \"SV\" in colunas_planilhaBasePreco:\n",
        "        celula_colunaValorSV=colunas_planilhaBasePreco[\"SV\"]\n",
        "\n",
        "    if \"Código de Venda\" in colunas_planilhaBasePreco:\n",
        "        celula_colunaCodVendas=colunas_planilhaBasePreco[\"Código de Venda\"]\n",
        "        #print(colunas_TabelaBasePreco)\n",
        "        #print(celula_linha2_coluna)\n",
        "        busca_coluna_codVenda(aba_TabelaBasePreco,celula_colunaCodVendas, cv_base,produtos_basePreco,celula_colunaValorSV,celula_colunaValorSV2,nova_coluna, cv_aplicados, planilha_TabelaBasePreco,produtos_baseDePor)\n"
      ],
      "metadata": {
        "id": "aoxx7gUilFTu"
      },
      "execution_count": null,
      "outputs": []
    },
    {
      "cell_type": "code",
      "source": [
        "def  infos_planilha2(cv_base,colunas_planilhaBasePreco,produtos_basePreco, nova_coluna,aba_TabelaDePor, cv_aplicados, produtos_baseDePor):\n",
        "    #TabelaBasePreco=input(\"Digite o nome do arquivo .xlsx, de TabelaBasePreco:\")\n",
        "    TabelaBasePreco=\"202318_Base de Preços\"\n",
        "    TabelaBasePreco=TabelaBasePreco+\".xlsx\"\n",
        "    planilha_TabelaBasePreco=openpyxl.load_workbook(TabelaBasePreco)\n",
        "    aba_TabelaBasePreco=planilha_TabelaBasePreco['Base de Preços BR VF']\n",
        "    busca_coluna_TabelaBasePreco(aba_TabelaBasePreco, cv_base, colunas_planilhaBasePreco,produtos_basePreco,nova_coluna, cv_aplicados, planilha_TabelaBasePreco, produtos_baseDePor)\n",
        "\n"
      ],
      "metadata": {
        "id": "HJOAaxOklFTv"
      },
      "execution_count": null,
      "outputs": []
    },
    {
      "cell_type": "code",
      "source": [
        "def comparador_cvs(cv_aplicados, cv_base):\n",
        "\n",
        "    difference = [elem for elem in cv_aplicados if elem not in cv_base]\n",
        "    print(\"Segue lista de CV's que não localizamos na base de Preços: \")\n",
        "    print(difference)\n",
        "\n",
        "def comparador_valores(aba_TabelaBasePreco,produtos_baseDePor,produtos_basePreco, cv_aplicados, cv_base,nova_coluna,  TabelaBasePreco):\n",
        "    ProdutosDePor=produtos_baseDePor.keys()\n",
        "    ProdutosBasePreco=produtos_basePreco.keys()\n",
        "    for ProdDePor in cv_aplicados:\n",
        "        if ProdDePor in ProdutosBasePreco:\n",
        "\n",
        "            #chave_prod=produtos_baseDePor.get()\n",
        "            chave_prodBasePreco=(produtos_basePreco[ProdDePor])\n",
        "            #print(chave_prodBasePreco)\n",
        "            valor_SV_BasePreco=(chave_prodBasePreco[\"Valor SV\"])\n",
        "            chave_prodDePor=(produtos_baseDePor[ProdDePor])\n",
        "            valor_De_DePor=(chave_prodDePor[\"Valor De\"])\n",
        "            if valor_SV_BasePreco!=valor_De_DePor:\n",
        "                print(f'Temos valores diferentes no CV: {ProdDePor}, \\nNa Base de Preço temos o valor: {valor_SV_BasePreco} \\nJá na De Por temos: {valor_De_DePor}')\n",
        "                #print(type(valor_De_DePor))\n",
        "            #print(chave_prodDePor)\n",
        "            #print(valor_De_DePor)\n",
        "\n",
        "    '''for ProdDePor in ProdutosDePor:\n",
        "        for ProdBasePreco in ProdutosBasePreco:\n",
        "            if ProdDePor == ProdBasePreco'''\n",
        "\n"
      ],
      "metadata": {
        "id": "OpqiuCAdlFTw"
      },
      "execution_count": null,
      "outputs": []
    },
    {
      "cell_type": "code",
      "source": [],
      "metadata": {
        "id": "-ITq4HIr2Bj_"
      },
      "execution_count": null,
      "outputs": []
    },
    {
      "cell_type": "code",
      "source": [
        "def busca_coluna_TabelaDePor(aba_TabelaDePor ):\n",
        "    produtos_baseDePor={}\n",
        "    produtos_basePreco={}\n",
        "    colunas_TabelaDePor=[]\n",
        "    cv_aplicados=[]\n",
        "    cv_base=[]\n",
        "    nova_coluna=0\n",
        "    aba_TabelaBasePreco=\"x\"\n",
        "\n",
        "    colunas_planilhaBasePreco={}\n",
        "\n",
        "    colunas_planilhaDePor={}\n",
        "    #print(celula_colunaCodVendas)\n",
        "\n",
        "    for colunas_DePor in aba_TabelaDePor['4']:\n",
        "        colunas_nome=colunas_DePor.value\n",
        "        colunas_colunaL=colunas_DePor.column_letter\n",
        "        colunas_planilhaDePor[colunas_nome] = colunas_colunaL\n",
        "    #print(colunas_planilhaDePor.keys())\n",
        "    if \"De\" in colunas_planilhaDePor:\n",
        "        celula_colunaValorDe=colunas_planilhaDePor[\"De\"]\n",
        "    if \"Por\" in colunas_planilhaDePor:\n",
        "        celula_colunaValorPor=colunas_planilhaDePor[\"Por\"]\n",
        "    if \"CV\" in colunas_planilhaDePor:\n",
        "        celula_colunaCV=colunas_planilhaDePor[\"CV\"]\n",
        "        busca_coluna_cv(aba_TabelaDePor,celula_colunaCV, cv_aplicados, celula_colunaValorPor, celula_colunaValorDe,produtos_baseDePor)\n",
        "        infos_planilha2(cv_base,colunas_planilhaBasePreco,produtos_basePreco, nova_coluna,aba_TabelaDePor, cv_aplicados, produtos_baseDePor)\n",
        "    '''if \"[Desconto (%)]\" in colunas_planilhaDePor:\n",
        "        celula_colunaValorDesconto=colunas_planilhaDePor[\"[Desconto (%)]\"]\n",
        "    if \"Você Lucra\" in colunas_planilhaDePor:\n",
        "        celula_colunaVoceLucra=colunas_planilhaDePor[\"Você Lucra\"]   '''\n",
        "\n",
        "\n",
        "            #print(cv_aplicados) CVs de DePor\n",
        "            #print(cv_base) CVs de base de preço\n",
        "    comparador_cvs(cv_aplicados, cv_base)\n"
      ],
      "metadata": {
        "id": "4sW2jm-JlFTw"
      },
      "execution_count": null,
      "outputs": []
    },
    {
      "cell_type": "code",
      "source": [
        "TabelaDePor=input(\"Digite o nome do arquivo .xlsx, de TabelaDePor:\")\n",
        "#TabelaDePor=\"Tabela DePor_Teste (4)\"\n",
        "TabelaDePor=TabelaDePor+\".xlsx\"\n",
        "planilha_TabelaDePor=openpyxl.load_workbook(TabelaDePor)\n",
        "aba_TabelaDePor=planilha_TabelaDePor['Tabela DePor']\n",
        "busca_coluna_TabelaDePor(aba_TabelaDePor )\n",
        "\n"
      ],
      "metadata": {
        "colab": {
          "base_uri": "https://localhost:8080/"
        },
        "outputId": "835be0d7-26b0-4bcf-9e87-6b50cc8e2cbb",
        "id": "qU42EYIolFTw"
      },
      "execution_count": null,
      "outputs": [
        {
          "output_type": "stream",
          "name": "stdout",
          "text": [
            "Segue lista de CV's que não localizamos na base de Preços: \n",
            "[75234.0, 146273.0, 19128.0, 125710.0, 125712.0, 128570.0, 129963.0, 134757.0, 134758.0, 134759.0, 134760.0, 134761.0, 134762.0, 134764.0, 134768.0, 134770.0, 134773.0, 134843.0, 134844.0, 134848.0, 134850.0, 134856.0, 134858.0, 134860.0, 134862.0, 134863.0, 134870.0, 134872.0, 134876.0, 134881.0, 134882.0, 134883.0, 134894.0, 134895.0, 134985.0, 134995.0, 134996.0, 137806.0, 137807.0, 137808.0, 137810.0, 137813.0, 137814.0, 139603.0, 139812.0, 145675.0, 146900.0, 147391.0, 99023.0, 99025.0]\n"
          ]
        }
      ]
    },
    {
      "cell_type": "markdown",
      "source": [
        "Tabela DePor_Teste\n",
        "\n",
        "202318_Base de Preços"
      ],
      "metadata": {
        "id": "Yr1Lesaxqah1"
      }
    }
  ]
}